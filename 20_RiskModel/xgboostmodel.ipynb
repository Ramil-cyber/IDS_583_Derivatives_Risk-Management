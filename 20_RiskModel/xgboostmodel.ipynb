{
 "cells": [
  {
   "cell_type": "code",
   "execution_count": 1,
   "id": "1e091eca",
   "metadata": {},
   "outputs": [],
   "source": [
    "import pandas as pd\n",
    "import numpy as np\n",
    "import xgboost as xgb\n",
    "from sklearn.metrics import (\n",
    "    mean_squared_error,\n",
    "    r2_score,\n",
    "    mean_absolute_error,\n",
    "    mean_absolute_percentage_error,\n",
    ")\n",
    "import warnings\n",
    "from pandas.errors import SettingWithCopyWarning\n",
    "\n",
    "# suppress pandas copy warnings\n",
    "warnings.simplefilter(action=\"ignore\", category=SettingWithCopyWarning)"
   ]
  },
  {
   "cell_type": "code",
   "execution_count": 2,
   "id": "dcbfa245",
   "metadata": {},
   "outputs": [],
   "source": [
    "\n",
    "# 1. LOAD EXPANDED DATASET & FILTER YEARS\n",
    "# ---------------------------------------------------\n",
    "mr = (\n",
    "    pd.read_csv(\n",
    "        \"updated_QQQ_MarketRisk.csv\",\n",
    "        parse_dates=[\"Date\"]\n",
    "    )\n",
    "    .sort_values(\"Date\")\n",
    "    .query(\"Date.dt.year >= 2015 and Date.dt.year <= 2023\")\n",
    "    .reset_index(drop=True)\n",
    ")"
   ]
  },
  {
   "cell_type": "code",
   "execution_count": 3,
   "id": "32483398",
   "metadata": {},
   "outputs": [
    {
     "name": "stdout",
     "output_type": "stream",
     "text": [
      "           Date  QQQ_Return  QQQ_Realized_Volatility  QQQ_Volume        VIX  \\\n",
      "1156 2019-09-27   -0.012409                 0.143274    40773500  17.219999   \n",
      "416  2016-10-17   -0.002732                 0.099715    14182700  16.209999   \n",
      "2088 2023-06-12    0.016897                 0.176719    44606500  15.010000   \n",
      "1454 2020-12-02    0.001285                 0.233855    23620000  21.170000   \n",
      "1934 2022-10-28    0.030601                 0.337867    62651300  25.750000   \n",
      "650  2017-09-22   -0.000969                 0.093450    21702400   9.590000   \n",
      "161  2015-10-13   -0.006461                 0.185388    26999600  17.670000   \n",
      "1438 2020-11-09   -0.020434                 0.307692    86537100  25.750000   \n",
      "2051 2023-04-19   -0.000470                 0.154783    38960100  16.459999   \n",
      "2118 2023-07-26   -0.003327                 0.146302    47075700  13.190000   \n",
      "\n",
      "         RSI_14        VXN  FedRate  \n",
      "1156  38.058972  20.889999    1.730  \n",
      "416   36.997203  17.580000    0.295  \n",
      "2088  72.415060  20.459999    5.095  \n",
      "1454  76.102135  27.549999    0.075  \n",
      "1934  61.238513  31.860001    3.970  \n",
      "650   42.288907  13.810000    1.003  \n",
      "161   56.997010  20.150000    0.005  \n",
      "1438  53.410571  31.320000    0.088  \n",
      "2051  60.878977  21.240000    4.995  \n",
      "2118  64.208921  18.990000    5.268  \n"
     ]
    }
   ],
   "source": [
    "print(mr.sample(10))"
   ]
  },
  {
   "cell_type": "code",
   "execution_count": 4,
   "id": "6fe83f85",
   "metadata": {},
   "outputs": [],
   "source": [
    "# 2. ENGINEER NEXT-DAY REALIZED VOLATILITY\n",
    "# ---------------------------------------------------\n",
    "mr[\"NextVol\"] = mr[\"QQQ_Realized_Volatility\"].shift(-1)"
   ]
  },
  {
   "cell_type": "code",
   "execution_count": 5,
   "id": "c713762b",
   "metadata": {},
   "outputs": [],
   "source": [
    "# 3. SELECT FEATURES & CLEAN\n",
    "# ---------------------------------------------------\n",
    "features = [\n",
    "    \"QQQ_Return\",\n",
    "    \"QQQ_Realized_Volatility\",\n",
    "    \"QQQ_Volume\",\n",
    "    \"VIX\",\n",
    "    \"RSI_14\",\n",
    "    \"VXN\",\n",
    "    \"FedRate\",\n",
    "]\n",
    "\n",
    "# coerce numeric, drop any rows missing features or target\n",
    "for col in features + [\"NextVol\"]:\n",
    "    mr[col] = pd.to_numeric(mr[col], errors=\"coerce\")\n",
    "\n",
    "mr.dropna(subset=features + [\"NextVol\"], inplace=True)\n",
    "mr.reset_index(drop=True, inplace=True)"
   ]
  },
  {
   "cell_type": "code",
   "execution_count": 6,
   "id": "a2ff7afa",
   "metadata": {},
   "outputs": [],
   "source": [
    "# 4. ROLLING 3-YEAR WINDOW → PREDICT ONLY FOR 2020–2023\n",
    "# ---------------------------------------------------\n",
    "results = []\n",
    "first_date = mr[\"Date\"].min()\n",
    "\n",
    "for _, row in mr.iterrows():\n",
    "    today = row[\"Date\"]\n",
    "    year  = today.year\n",
    "\n",
    "    # only record predictions in test window\n",
    "    if year < 2020 or year > 2023:\n",
    "        continue\n",
    "\n",
    "    # require 3 full years of history\n",
    "    if today < (first_date + pd.DateOffset(years=3)):\n",
    "        continue\n",
    "\n",
    "    # build train window [today - 3y, today)\n",
    "    window_start = today - pd.DateOffset(years=3)\n",
    "    train_df     = mr[(mr[\"Date\"] >= window_start) & (mr[\"Date\"] < today)]\n",
    "\n",
    "    # skip if too few training rows\n",
    "    if len(train_df) < 200:\n",
    "        continue\n",
    "\n",
    "    X_train = train_df[features]\n",
    "    y_train = train_df[\"NextVol\"]\n",
    "\n",
    "    # today's features → one‐step forecast\n",
    "    X_today = row[features].values.reshape(1, -1)\n",
    "    y_true  = row[\"NextVol\"]\n",
    "\n",
    "    # train & predict\n",
    "    model = xgb.XGBRegressor(\n",
    "        objective=\"reg:squarederror\",\n",
    "        eval_metric=\"rmse\",\n",
    "        n_estimators=50,\n",
    "        learning_rate=0.05,\n",
    "        random_state=42,\n",
    "    )\n",
    "    model.fit(X_train, y_train, verbose=False)\n",
    "    y_pred = model.predict(X_today)[0]\n",
    "\n",
    "    results.append({\n",
    "        \"Date\":              today,\n",
    "        \"PredictedNextVol\":  y_pred,\n",
    "        \"ActualNextVol\":     y_true\n",
    "    })"
   ]
  },
  {
   "cell_type": "code",
   "execution_count": 7,
   "id": "7c8e7d9b",
   "metadata": {},
   "outputs": [
    {
     "name": "stdout",
     "output_type": "stream",
     "text": [
      "Saved 1005 predictions → rolling_3yr_preds_2020_23.csv\n"
     ]
    }
   ],
   "source": [
    "# 5. ASSEMBLE & SAVE\n",
    "# ---------------------------------------------------\n",
    "out_df = pd.DataFrame(results)\n",
    "out_df.to_csv(\"rolling_4yr_preds_2020_23.csv\", index=False)\n",
    "print(f\"Saved {len(out_df)} predictions → rolling_3yr_preds_2020_23.csv\")"
   ]
  },
  {
   "cell_type": "code",
   "execution_count": 8,
   "id": "0ccabc9a",
   "metadata": {},
   "outputs": [
    {
     "name": "stdout",
     "output_type": "stream",
     "text": [
      "\n",
      "--- Test Metrics (2020–2023) ---\n",
      "Test MSE : 0.000778\n",
      "Test RMSE: 0.027893\n",
      "Test R²  : 0.9521\n",
      "Test MAE : 0.014613\n",
      "Test MAPE: 5.91%\n"
     ]
    }
   ],
   "source": [
    "# 6. COMPUTE TEST METRICS (2020–2023)\n",
    "# ---------------------------------------------------\n",
    "y_pred = out_df[\"PredictedNextVol\"]\n",
    "y_true = out_df[\"ActualNextVol\"]\n",
    "\n",
    "mse  = mean_squared_error(y_true, y_pred)\n",
    "rmse = np.sqrt(mse)\n",
    "r2   = r2_score(y_true, y_pred)\n",
    "mae  = mean_absolute_error(y_true, y_pred)\n",
    "mape = mean_absolute_percentage_error(y_true, y_pred)\n",
    "\n",
    "print(\"\\n--- Test Metrics (2020–2023) ---\")\n",
    "print(f\"Test MSE : {mse:.6f}\")\n",
    "print(f\"Test RMSE: {rmse:.6f}\")\n",
    "print(f\"Test R²  : {r2:.4f}\")\n",
    "print(f\"Test MAE : {mae:.6f}\")\n",
    "print(f\"Test MAPE: {mape:.2%}\")"
   ]
  }
 ],
 "metadata": {
  "kernelspec": {
   "display_name": "base",
   "language": "python",
   "name": "python3"
  },
  "language_info": {
   "codemirror_mode": {
    "name": "ipython",
    "version": 3
   },
   "file_extension": ".py",
   "mimetype": "text/x-python",
   "name": "python",
   "nbconvert_exporter": "python",
   "pygments_lexer": "ipython3",
   "version": "3.12.6"
  }
 },
 "nbformat": 4,
 "nbformat_minor": 5
}
